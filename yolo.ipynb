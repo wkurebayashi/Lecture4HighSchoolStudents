{
  "nbformat": 4,
  "nbformat_minor": 0,
  "metadata": {
    "colab": {
      "provenance": []
    },
    "kernelspec": {
      "name": "python3",
      "display_name": "Python 3"
    },
    "language_info": {
      "name": "python"
    }
  },
  "cells": [
    {
      "cell_type": "markdown",
      "source": [
        "# 画像認識を体験する"
      ],
      "metadata": {
        "id": "tZLn4vHmtgET"
      }
    },
    {
      "cell_type": "code",
      "execution_count": 5,
      "metadata": {
        "colab": {
          "base_uri": "https://localhost:8080/"
        },
        "id": "xOjFUy3pugFC",
        "outputId": "061d4b13-75c7-47c3-9ca1-7a678ade45c4"
      },
      "outputs": [
        {
          "output_type": "stream",
          "name": "stdout",
          "text": [
            "fatal: destination path 'yolov5' already exists and is not an empty directory.\n"
          ]
        }
      ],
      "source": [
        "# モデルのダウンロードとインストール\n",
        "!git clone https://github.com/ultralytics/yolov5\n",
        "!pip install -qr /content/yolov5/requirements.txt"
      ]
    },
    {
      "cell_type": "code",
      "source": [
        "# 画像認識を行う(画像ファイルをアップロードし、dog.png をそのファイル名に書き換える)\n",
        "# 認識結果は　yolov5/runs/detect/demo 内に保存される\n",
        "!python /content/yolov5/detect.py --source dog.png --weights /content/yolov5/yolov5s.pt --conf 0.3 --name demo --exist-ok"
      ],
      "metadata": {
        "colab": {
          "base_uri": "https://localhost:8080/"
        },
        "id": "Hg03uEgJx-X6",
        "outputId": "14eba8ce-2d83-4308-86c4-4e59421c1516"
      },
      "execution_count": 8,
      "outputs": [
        {
          "output_type": "stream",
          "name": "stdout",
          "text": [
            "\u001b[34m\u001b[1mdetect: \u001b[0mweights=['/content/yolov5/yolov5s.pt'], source=dog.png, data=yolov5/data/coco128.yaml, imgsz=[640, 640], conf_thres=0.3, iou_thres=0.45, max_det=1000, device=, view_img=False, save_txt=False, save_conf=False, save_crop=False, nosave=False, classes=None, agnostic_nms=False, augment=False, visualize=False, update=False, project=yolov5/runs/detect, name=demo, exist_ok=True, line_thickness=3, hide_labels=False, hide_conf=False, half=False, dnn=False, vid_stride=1\n",
            "YOLOv5 🚀 v7.0-187-g0004c74 Python-3.10.12 torch-2.0.1+cu118 CPU\n",
            "\n",
            "Fusing layers... \n",
            "YOLOv5s summary: 213 layers, 7225885 parameters, 0 gradients\n",
            "image 1/1 /content/dog.png: 448x640 1 sheep, 328.3ms\n",
            "Speed: 1.9ms pre-process, 328.3ms inference, 3.3ms NMS per image at shape (1, 3, 640, 640)\n",
            "Results saved to \u001b[1myolov5/runs/detect/demo\u001b[0m\n"
          ]
        }
      ]
    }
  ]
}